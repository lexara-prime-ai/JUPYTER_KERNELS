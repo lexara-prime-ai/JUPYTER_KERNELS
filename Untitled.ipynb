{
 "cells": [
  {
   "cell_type": "code",
   "execution_count": 10,
   "id": "10a382cb-0716-42f5-a81d-8806a0c5102b",
   "metadata": {},
   "outputs": [
    {
     "ename": "Error",
     "evalue": "    Updating crates.io index\nerror: no matching package named `graphviz` found\nlocation searched: registry `crates-io`",
     "output_type": "error",
     "traceback": [
      "\u001b[31mError:\u001b[0m     Updating crates.io index",
      "error: no matching package named `graphviz` found",
      "location searched: registry `crates-io`"
     ]
    }
   ],
   "source": [
    ":dep petgraph = \"*\"\n",
    ":dep petgraph-evcxr = \"*\""
   ]
  },
  {
   "cell_type": "code",
   "execution_count": 8,
   "id": "0b5177f2-2a99-410f-8534-0a91a9c62ff8",
   "metadata": {},
   "outputs": [],
   "source": [
    "extern crate petgraph;\n",
    "use petgraph::graph::Graph;\n",
    "use petgraph::dot::Dot;\n",
    "use petgraph_evcxr::{draw_graph, draw_dot};"
   ]
  },
  {
   "cell_type": "code",
   "execution_count": 9,
   "id": "6b59a226-8b86-4ca3-859e-11dc01b21c68",
   "metadata": {},
   "outputs": [
    {
     "name": "stderr",
     "output_type": "stream",
     "text": [
      "thread '<unnamed>' panicked at C:\\Users\\IrfanGhat\\.cargo\\registry\\src\\index.crates.io-6f17d22bba15001f\\petgraph-evcxr-0.2.0\\src\\lib.rs:33:10:\n",
      "Error running graphviz dot is graphviz installed?: Error { kind: NotFound, message: \"program not found\" }\n",
      "stack backtrace:\n",
      "note: Some details are omitted, run with `RUST_BACKTRACE=full` for a verbose backtrace.\n"
     ]
    },
    {
     "data": {
      "image/png": ""
     },
     "execution_count": 9,
     "metadata": {},
     "output_type": "execute_result"
    }
   ],
   "source": [
    "let mut g: Graph<&str, &str> = Graph::new();\n",
    "let good = g.add_node(\"the good\");\n",
    "let bad = g.add_node(\"the bad\");\n",
    "let ugly = g.add_node(\"the ugly\");\n",
    "\n",
    "g.add_edge(good, bad, \"don't move\");\n",
    "g.add_edge(bad, good, \"don't move\");\n",
    "g.add_edge(bad, ugly, \"don't move\");\n",
    "g.add_edge(ugly, bad, \"don't move\");\n",
    "g.add_edge(ugly, good, \"don't move\");\n",
    "g.add_edge(good, ugly, \"don't move\");\n",
    "draw_graph(&g);"
   ]
  },
  {
   "cell_type": "code",
   "execution_count": null,
   "id": "40029470-d354-4f49-8a01-9948d138fc18",
   "metadata": {},
   "outputs": [],
   "source": []
  }
 ],
 "metadata": {
  "kernelspec": {
   "display_name": "Rust",
   "language": "rust",
   "name": "rust"
  },
  "language_info": {
   "codemirror_mode": "rust",
   "file_extension": ".rs",
   "mimetype": "text/rust",
   "name": "Rust",
   "pygment_lexer": "rust",
   "version": ""
  }
 },
 "nbformat": 4,
 "nbformat_minor": 5
}
